{
 "cells": [
  {
   "cell_type": "code",
   "execution_count": 1,
   "metadata": {},
   "outputs": [],
   "source": [
    "import pandas as pd\n",
    "import numpy as np \n",
    "import matplotlib.pyplot as plt\n",
    "import seaborn as sns\n",
    "import warnings\n",
    "warnings.filterwarnings('ignore')\n",
    "from sklearn.metrics import mean_absolute_error, mean_squared_error, r2_score"
   ]
  },
  {
   "cell_type": "code",
   "execution_count": 2,
   "metadata": {},
   "outputs": [],
   "source": [
    "df = pd.read_csv('insurance.csv')"
   ]
  },
  {
   "cell_type": "code",
   "execution_count": 3,
   "metadata": {},
   "outputs": [
    {
     "data": {
      "text/html": [
       "<div>\n",
       "<style scoped>\n",
       "    .dataframe tbody tr th:only-of-type {\n",
       "        vertical-align: middle;\n",
       "    }\n",
       "\n",
       "    .dataframe tbody tr th {\n",
       "        vertical-align: top;\n",
       "    }\n",
       "\n",
       "    .dataframe thead th {\n",
       "        text-align: right;\n",
       "    }\n",
       "</style>\n",
       "<table border=\"1\" class=\"dataframe\">\n",
       "  <thead>\n",
       "    <tr style=\"text-align: right;\">\n",
       "      <th></th>\n",
       "      <th>age</th>\n",
       "      <th>sex</th>\n",
       "      <th>bmi</th>\n",
       "      <th>children</th>\n",
       "      <th>smoker</th>\n",
       "      <th>region</th>\n",
       "      <th>charges</th>\n",
       "    </tr>\n",
       "  </thead>\n",
       "  <tbody>\n",
       "    <tr>\n",
       "      <th>0</th>\n",
       "      <td>19</td>\n",
       "      <td>female</td>\n",
       "      <td>27.900</td>\n",
       "      <td>0</td>\n",
       "      <td>yes</td>\n",
       "      <td>southwest</td>\n",
       "      <td>16884.92400</td>\n",
       "    </tr>\n",
       "    <tr>\n",
       "      <th>1</th>\n",
       "      <td>18</td>\n",
       "      <td>male</td>\n",
       "      <td>33.770</td>\n",
       "      <td>1</td>\n",
       "      <td>no</td>\n",
       "      <td>southeast</td>\n",
       "      <td>1725.55230</td>\n",
       "    </tr>\n",
       "    <tr>\n",
       "      <th>2</th>\n",
       "      <td>28</td>\n",
       "      <td>male</td>\n",
       "      <td>33.000</td>\n",
       "      <td>3</td>\n",
       "      <td>no</td>\n",
       "      <td>southeast</td>\n",
       "      <td>4449.46200</td>\n",
       "    </tr>\n",
       "    <tr>\n",
       "      <th>3</th>\n",
       "      <td>33</td>\n",
       "      <td>male</td>\n",
       "      <td>22.705</td>\n",
       "      <td>0</td>\n",
       "      <td>no</td>\n",
       "      <td>northwest</td>\n",
       "      <td>21984.47061</td>\n",
       "    </tr>\n",
       "    <tr>\n",
       "      <th>4</th>\n",
       "      <td>32</td>\n",
       "      <td>male</td>\n",
       "      <td>28.880</td>\n",
       "      <td>0</td>\n",
       "      <td>no</td>\n",
       "      <td>northwest</td>\n",
       "      <td>3866.85520</td>\n",
       "    </tr>\n",
       "  </tbody>\n",
       "</table>\n",
       "</div>"
      ],
      "text/plain": [
       "   age     sex     bmi  children smoker     region      charges\n",
       "0   19  female  27.900         0    yes  southwest  16884.92400\n",
       "1   18    male  33.770         1     no  southeast   1725.55230\n",
       "2   28    male  33.000         3     no  southeast   4449.46200\n",
       "3   33    male  22.705         0     no  northwest  21984.47061\n",
       "4   32    male  28.880         0     no  northwest   3866.85520"
      ]
     },
     "execution_count": 3,
     "metadata": {},
     "output_type": "execute_result"
    }
   ],
   "source": [
    "df.head()"
   ]
  },
  {
   "cell_type": "code",
   "execution_count": 4,
   "metadata": {},
   "outputs": [
    {
     "name": "stdout",
     "output_type": "stream",
     "text": [
      "<class 'pandas.core.frame.DataFrame'>\n",
      "RangeIndex: 1338 entries, 0 to 1337\n",
      "Data columns (total 7 columns):\n",
      " #   Column    Non-Null Count  Dtype  \n",
      "---  ------    --------------  -----  \n",
      " 0   age       1338 non-null   int64  \n",
      " 1   sex       1338 non-null   object \n",
      " 2   bmi       1338 non-null   float64\n",
      " 3   children  1338 non-null   int64  \n",
      " 4   smoker    1338 non-null   object \n",
      " 5   region    1338 non-null   object \n",
      " 6   charges   1338 non-null   float64\n",
      "dtypes: float64(2), int64(2), object(3)\n",
      "memory usage: 73.3+ KB\n"
     ]
    }
   ],
   "source": [
    "df.info()"
   ]
  },
  {
   "cell_type": "code",
   "execution_count": 5,
   "metadata": {},
   "outputs": [
    {
     "data": {
      "text/plain": [
       "age         0\n",
       "sex         0\n",
       "bmi         0\n",
       "children    0\n",
       "smoker      0\n",
       "region      0\n",
       "charges     0\n",
       "dtype: int64"
      ]
     },
     "execution_count": 5,
     "metadata": {},
     "output_type": "execute_result"
    }
   ],
   "source": [
    "df.isnull().sum()"
   ]
  },
  {
   "cell_type": "code",
   "execution_count": 6,
   "metadata": {},
   "outputs": [
    {
     "data": {
      "text/plain": [
       "age           47\n",
       "sex            2\n",
       "bmi          548\n",
       "children       6\n",
       "smoker         2\n",
       "region         4\n",
       "charges     1337\n",
       "dtype: int64"
      ]
     },
     "execution_count": 6,
     "metadata": {},
     "output_type": "execute_result"
    }
   ],
   "source": [
    "df.nunique()"
   ]
  },
  {
   "attachments": {},
   "cell_type": "markdown",
   "metadata": {},
   "source": [
    "label encoding"
   ]
  },
  {
   "cell_type": "code",
   "execution_count": 7,
   "metadata": {},
   "outputs": [],
   "source": [
    "from sklearn.preprocessing import LabelEncoder\n",
    "le = LabelEncoder()"
   ]
  },
  {
   "cell_type": "code",
   "execution_count": 8,
   "metadata": {},
   "outputs": [
    {
     "data": {
      "text/html": [
       "<div>\n",
       "<style scoped>\n",
       "    .dataframe tbody tr th:only-of-type {\n",
       "        vertical-align: middle;\n",
       "    }\n",
       "\n",
       "    .dataframe tbody tr th {\n",
       "        vertical-align: top;\n",
       "    }\n",
       "\n",
       "    .dataframe thead th {\n",
       "        text-align: right;\n",
       "    }\n",
       "</style>\n",
       "<table border=\"1\" class=\"dataframe\">\n",
       "  <thead>\n",
       "    <tr style=\"text-align: right;\">\n",
       "      <th></th>\n",
       "      <th>age</th>\n",
       "      <th>sex</th>\n",
       "      <th>bmi</th>\n",
       "      <th>children</th>\n",
       "      <th>smoker</th>\n",
       "      <th>region</th>\n",
       "      <th>charges</th>\n",
       "    </tr>\n",
       "  </thead>\n",
       "  <tbody>\n",
       "    <tr>\n",
       "      <th>0</th>\n",
       "      <td>19</td>\n",
       "      <td>0</td>\n",
       "      <td>27.900</td>\n",
       "      <td>0</td>\n",
       "      <td>1</td>\n",
       "      <td>3</td>\n",
       "      <td>16884.92400</td>\n",
       "    </tr>\n",
       "    <tr>\n",
       "      <th>1</th>\n",
       "      <td>18</td>\n",
       "      <td>1</td>\n",
       "      <td>33.770</td>\n",
       "      <td>1</td>\n",
       "      <td>0</td>\n",
       "      <td>2</td>\n",
       "      <td>1725.55230</td>\n",
       "    </tr>\n",
       "    <tr>\n",
       "      <th>2</th>\n",
       "      <td>28</td>\n",
       "      <td>1</td>\n",
       "      <td>33.000</td>\n",
       "      <td>3</td>\n",
       "      <td>0</td>\n",
       "      <td>2</td>\n",
       "      <td>4449.46200</td>\n",
       "    </tr>\n",
       "    <tr>\n",
       "      <th>3</th>\n",
       "      <td>33</td>\n",
       "      <td>1</td>\n",
       "      <td>22.705</td>\n",
       "      <td>0</td>\n",
       "      <td>0</td>\n",
       "      <td>1</td>\n",
       "      <td>21984.47061</td>\n",
       "    </tr>\n",
       "    <tr>\n",
       "      <th>4</th>\n",
       "      <td>32</td>\n",
       "      <td>1</td>\n",
       "      <td>28.880</td>\n",
       "      <td>0</td>\n",
       "      <td>0</td>\n",
       "      <td>1</td>\n",
       "      <td>3866.85520</td>\n",
       "    </tr>\n",
       "  </tbody>\n",
       "</table>\n",
       "</div>"
      ],
      "text/plain": [
       "   age  sex     bmi  children  smoker  region      charges\n",
       "0   19    0  27.900         0       1       3  16884.92400\n",
       "1   18    1  33.770         1       0       2   1725.55230\n",
       "2   28    1  33.000         3       0       2   4449.46200\n",
       "3   33    1  22.705         0       0       1  21984.47061\n",
       "4   32    1  28.880         0       0       1   3866.85520"
      ]
     },
     "execution_count": 8,
     "metadata": {},
     "output_type": "execute_result"
    }
   ],
   "source": [
    "df.sex = le.fit_transform(df.sex)\n",
    "df.region = le.fit_transform(df.region)\n",
    "df.smoker = le.fit_transform(df.smoker)\n",
    "df.head()"
   ]
  },
  {
   "cell_type": "code",
   "execution_count": 9,
   "metadata": {},
   "outputs": [
    {
     "data": {
      "text/html": [
       "<div>\n",
       "<style scoped>\n",
       "    .dataframe tbody tr th:only-of-type {\n",
       "        vertical-align: middle;\n",
       "    }\n",
       "\n",
       "    .dataframe tbody tr th {\n",
       "        vertical-align: top;\n",
       "    }\n",
       "\n",
       "    .dataframe thead th {\n",
       "        text-align: right;\n",
       "    }\n",
       "</style>\n",
       "<table border=\"1\" class=\"dataframe\">\n",
       "  <thead>\n",
       "    <tr style=\"text-align: right;\">\n",
       "      <th></th>\n",
       "      <th>count</th>\n",
       "      <th>mean</th>\n",
       "      <th>std</th>\n",
       "      <th>min</th>\n",
       "      <th>25%</th>\n",
       "      <th>50%</th>\n",
       "      <th>75%</th>\n",
       "      <th>max</th>\n",
       "    </tr>\n",
       "  </thead>\n",
       "  <tbody>\n",
       "    <tr>\n",
       "      <th>age</th>\n",
       "      <td>1338.0</td>\n",
       "      <td>39.207025</td>\n",
       "      <td>14.049960</td>\n",
       "      <td>18.0000</td>\n",
       "      <td>27.00000</td>\n",
       "      <td>39.000</td>\n",
       "      <td>51.000000</td>\n",
       "      <td>64.00000</td>\n",
       "    </tr>\n",
       "    <tr>\n",
       "      <th>sex</th>\n",
       "      <td>1338.0</td>\n",
       "      <td>0.505232</td>\n",
       "      <td>0.500160</td>\n",
       "      <td>0.0000</td>\n",
       "      <td>0.00000</td>\n",
       "      <td>1.000</td>\n",
       "      <td>1.000000</td>\n",
       "      <td>1.00000</td>\n",
       "    </tr>\n",
       "    <tr>\n",
       "      <th>bmi</th>\n",
       "      <td>1338.0</td>\n",
       "      <td>30.663397</td>\n",
       "      <td>6.098187</td>\n",
       "      <td>15.9600</td>\n",
       "      <td>26.29625</td>\n",
       "      <td>30.400</td>\n",
       "      <td>34.693750</td>\n",
       "      <td>53.13000</td>\n",
       "    </tr>\n",
       "    <tr>\n",
       "      <th>children</th>\n",
       "      <td>1338.0</td>\n",
       "      <td>1.094918</td>\n",
       "      <td>1.205493</td>\n",
       "      <td>0.0000</td>\n",
       "      <td>0.00000</td>\n",
       "      <td>1.000</td>\n",
       "      <td>2.000000</td>\n",
       "      <td>5.00000</td>\n",
       "    </tr>\n",
       "    <tr>\n",
       "      <th>smoker</th>\n",
       "      <td>1338.0</td>\n",
       "      <td>0.204783</td>\n",
       "      <td>0.403694</td>\n",
       "      <td>0.0000</td>\n",
       "      <td>0.00000</td>\n",
       "      <td>0.000</td>\n",
       "      <td>0.000000</td>\n",
       "      <td>1.00000</td>\n",
       "    </tr>\n",
       "    <tr>\n",
       "      <th>region</th>\n",
       "      <td>1338.0</td>\n",
       "      <td>1.515695</td>\n",
       "      <td>1.104885</td>\n",
       "      <td>0.0000</td>\n",
       "      <td>1.00000</td>\n",
       "      <td>2.000</td>\n",
       "      <td>2.000000</td>\n",
       "      <td>3.00000</td>\n",
       "    </tr>\n",
       "    <tr>\n",
       "      <th>charges</th>\n",
       "      <td>1338.0</td>\n",
       "      <td>13270.422265</td>\n",
       "      <td>12110.011237</td>\n",
       "      <td>1121.8739</td>\n",
       "      <td>4740.28715</td>\n",
       "      <td>9382.033</td>\n",
       "      <td>16639.912515</td>\n",
       "      <td>63770.42801</td>\n",
       "    </tr>\n",
       "  </tbody>\n",
       "</table>\n",
       "</div>"
      ],
      "text/plain": [
       "           count          mean           std        min         25%       50%  \\\n",
       "age       1338.0     39.207025     14.049960    18.0000    27.00000    39.000   \n",
       "sex       1338.0      0.505232      0.500160     0.0000     0.00000     1.000   \n",
       "bmi       1338.0     30.663397      6.098187    15.9600    26.29625    30.400   \n",
       "children  1338.0      1.094918      1.205493     0.0000     0.00000     1.000   \n",
       "smoker    1338.0      0.204783      0.403694     0.0000     0.00000     0.000   \n",
       "region    1338.0      1.515695      1.104885     0.0000     1.00000     2.000   \n",
       "charges   1338.0  13270.422265  12110.011237  1121.8739  4740.28715  9382.033   \n",
       "\n",
       "                   75%          max  \n",
       "age          51.000000     64.00000  \n",
       "sex           1.000000      1.00000  \n",
       "bmi          34.693750     53.13000  \n",
       "children      2.000000      5.00000  \n",
       "smoker        0.000000      1.00000  \n",
       "region        2.000000      3.00000  \n",
       "charges   16639.912515  63770.42801  "
      ]
     },
     "execution_count": 9,
     "metadata": {},
     "output_type": "execute_result"
    }
   ],
   "source": [
    "df.describe().T"
   ]
  },
  {
   "attachments": {},
   "cell_type": "markdown",
   "metadata": {},
   "source": [
    "Data VIsualization"
   ]
  },
  {
   "cell_type": "code",
   "execution_count": 11,
   "metadata": {},
   "outputs": [
    {
     "data": {
      "text/plain": [
       "<seaborn.axisgrid.FacetGrid at 0x1ec6570bd90>"
      ]
     },
     "execution_count": 11,
     "metadata": {},
     "output_type": "execute_result"
    },
    {
     "data": {
      "text/plain": [
       "<Figure size 400x400 with 0 Axes>"
      ]
     },
     "metadata": {},
     "output_type": "display_data"
    },
    {
     "data": {
      "image/png": "[encoded data removed]",
      "text/plain": [
       "<Figure size 500x500 with 1 Axes>"
      ]
     },
     "metadata": {},
     "output_type": "display_data"
    }
   ],
   "source": [
    "plt.figure(figsize=(4,4))\n",
    "sns.displot(df['charges'])"
   ]
  },
  {
   "cell_type": "code",
   "execution_count": 12,
   "metadata": {},
   "outputs": [
    {
     "data": {
      "text/plain": [
       "<Axes: >"
      ]
     },
     "execution_count": 12,
     "metadata": {},
     "output_type": "execute_result"
    },
    {
     "data": {
      "image/png": "[encoded data removed]",
      "text/plain": [
       "<Figure size 2000x2000 with 2 Axes>"
      ]
     },
     "metadata": {},
     "output_type": "display_data"
    }
   ],
   "source": [
    "plt.figure(figsize=(20,20))\n",
    "sns.heatmap(df.corr(),annot=True)"
   ]
  },
  {
   "cell_type": "code",
   "execution_count": 13,
   "metadata": {},
   "outputs": [],
   "source": [
    "x = df.drop('charges',axis=1)\n",
    "y = df['charges']"
   ]
  },
  {
   "cell_type": "code",
   "execution_count": 14,
   "metadata": {},
   "outputs": [],
   "source": [
    "from sklearn.model_selection import train_test_split as tts"
   ]
  },
  {
   "cell_type": "code",
   "execution_count": 15,
   "metadata": {},
   "outputs": [],
   "source": [
    "xtrain,xtest,ytrain,ytest = tts(x,y,test_size=0.3,random_state=50)"
   ]
  },
  {
   "cell_type": "code",
   "execution_count": 16,
   "metadata": {},
   "outputs": [
    {
     "data": {
      "text/html": [
       "<div>\n",
       "<style scoped>\n",
       "    .dataframe tbody tr th:only-of-type {\n",
       "        vertical-align: middle;\n",
       "    }\n",
       "\n",
       "    .dataframe tbody tr th {\n",
       "        vertical-align: top;\n",
       "    }\n",
       "\n",
       "    .dataframe thead th {\n",
       "        text-align: right;\n",
       "    }\n",
       "</style>\n",
       "<table border=\"1\" class=\"dataframe\">\n",
       "  <thead>\n",
       "    <tr style=\"text-align: right;\">\n",
       "      <th></th>\n",
       "      <th>age</th>\n",
       "      <th>sex</th>\n",
       "      <th>bmi</th>\n",
       "      <th>children</th>\n",
       "      <th>smoker</th>\n",
       "      <th>region</th>\n",
       "    </tr>\n",
       "  </thead>\n",
       "  <tbody>\n",
       "    <tr>\n",
       "      <th>69</th>\n",
       "      <td>28</td>\n",
       "      <td>1</td>\n",
       "      <td>23.980</td>\n",
       "      <td>3</td>\n",
       "      <td>1</td>\n",
       "      <td>2</td>\n",
       "    </tr>\n",
       "    <tr>\n",
       "      <th>852</th>\n",
       "      <td>46</td>\n",
       "      <td>0</td>\n",
       "      <td>35.530</td>\n",
       "      <td>0</td>\n",
       "      <td>1</td>\n",
       "      <td>0</td>\n",
       "    </tr>\n",
       "    <tr>\n",
       "      <th>771</th>\n",
       "      <td>53</td>\n",
       "      <td>0</td>\n",
       "      <td>26.700</td>\n",
       "      <td>2</td>\n",
       "      <td>0</td>\n",
       "      <td>3</td>\n",
       "    </tr>\n",
       "    <tr>\n",
       "      <th>33</th>\n",
       "      <td>63</td>\n",
       "      <td>1</td>\n",
       "      <td>28.310</td>\n",
       "      <td>0</td>\n",
       "      <td>0</td>\n",
       "      <td>1</td>\n",
       "    </tr>\n",
       "    <tr>\n",
       "      <th>168</th>\n",
       "      <td>19</td>\n",
       "      <td>0</td>\n",
       "      <td>31.825</td>\n",
       "      <td>1</td>\n",
       "      <td>0</td>\n",
       "      <td>1</td>\n",
       "    </tr>\n",
       "  </tbody>\n",
       "</table>\n",
       "</div>"
      ],
      "text/plain": [
       "     age  sex     bmi  children  smoker  region\n",
       "69    28    1  23.980         3       1       2\n",
       "852   46    0  35.530         0       1       0\n",
       "771   53    0  26.700         2       0       3\n",
       "33    63    1  28.310         0       0       1\n",
       "168   19    0  31.825         1       0       1"
      ]
     },
     "execution_count": 16,
     "metadata": {},
     "output_type": "execute_result"
    }
   ],
   "source": [
    "xtrain.head()"
   ]
  },
  {
   "cell_type": "code",
   "execution_count": 17,
   "metadata": {},
   "outputs": [
    {
     "data": {
      "text/plain": [
       "69     17663.14420\n",
       "852    42111.66470\n",
       "771    11150.78000\n",
       "33     13770.09790\n",
       "168     2719.27975\n",
       "Name: charges, dtype: float64"
      ]
     },
     "execution_count": 17,
     "metadata": {},
     "output_type": "execute_result"
    }
   ],
   "source": [
    "ytrain.head()"
   ]
  },
  {
   "cell_type": "code",
   "execution_count": 18,
   "metadata": {},
   "outputs": [
    {
     "data": {
      "text/html": [
       "<div>\n",
       "<style scoped>\n",
       "    .dataframe tbody tr th:only-of-type {\n",
       "        vertical-align: middle;\n",
       "    }\n",
       "\n",
       "    .dataframe tbody tr th {\n",
       "        vertical-align: top;\n",
       "    }\n",
       "\n",
       "    .dataframe thead th {\n",
       "        text-align: right;\n",
       "    }\n",
       "</style>\n",
       "<table border=\"1\" class=\"dataframe\">\n",
       "  <thead>\n",
       "    <tr style=\"text-align: right;\">\n",
       "      <th></th>\n",
       "      <th>age</th>\n",
       "      <th>sex</th>\n",
       "      <th>bmi</th>\n",
       "      <th>children</th>\n",
       "      <th>smoker</th>\n",
       "      <th>region</th>\n",
       "    </tr>\n",
       "  </thead>\n",
       "  <tbody>\n",
       "    <tr>\n",
       "      <th>589</th>\n",
       "      <td>38</td>\n",
       "      <td>0</td>\n",
       "      <td>30.69</td>\n",
       "      <td>1</td>\n",
       "      <td>0</td>\n",
       "      <td>2</td>\n",
       "    </tr>\n",
       "    <tr>\n",
       "      <th>383</th>\n",
       "      <td>35</td>\n",
       "      <td>0</td>\n",
       "      <td>43.34</td>\n",
       "      <td>2</td>\n",
       "      <td>0</td>\n",
       "      <td>2</td>\n",
       "    </tr>\n",
       "    <tr>\n",
       "      <th>534</th>\n",
       "      <td>64</td>\n",
       "      <td>1</td>\n",
       "      <td>40.48</td>\n",
       "      <td>0</td>\n",
       "      <td>0</td>\n",
       "      <td>2</td>\n",
       "    </tr>\n",
       "    <tr>\n",
       "      <th>284</th>\n",
       "      <td>52</td>\n",
       "      <td>0</td>\n",
       "      <td>31.20</td>\n",
       "      <td>0</td>\n",
       "      <td>0</td>\n",
       "      <td>3</td>\n",
       "    </tr>\n",
       "    <tr>\n",
       "      <th>821</th>\n",
       "      <td>26</td>\n",
       "      <td>1</td>\n",
       "      <td>17.67</td>\n",
       "      <td>0</td>\n",
       "      <td>0</td>\n",
       "      <td>1</td>\n",
       "    </tr>\n",
       "  </tbody>\n",
       "</table>\n",
       "</div>"
      ],
      "text/plain": [
       "     age  sex    bmi  children  smoker  region\n",
       "589   38    0  30.69         1       0       2\n",
       "383   35    0  43.34         2       0       2\n",
       "534   64    1  40.48         0       0       2\n",
       "284   52    0  31.20         0       0       3\n",
       "821   26    1  17.67         0       0       1"
      ]
     },
     "execution_count": 18,
     "metadata": {},
     "output_type": "execute_result"
    }
   ],
   "source": [
    "xtest.head()"
   ]
  },
  {
   "attachments": {},
   "cell_type": "markdown",
   "metadata": {},
   "source": [
    "Linear Regression"
   ]
  },
  {
   "cell_type": "code",
   "execution_count": 19,
   "metadata": {},
   "outputs": [
    {
     "data": {
      "text/html": [
       "<style>#sk-container-id-1 {color: black;background-color: white;}#sk-container-id-1 pre{padding: 0;}#sk-container-id-1 div.sk-toggleable {background-color: white;}#sk-container-id-1 label.sk-toggleable__label {cursor: pointer;display: block;width: 100%;margin-bottom: 0;padding: 0.3em;box-sizing: border-box;text-align: center;}#sk-container-id-1 label.sk-toggleable__label-arrow:before {content: \"▸\";float: left;margin-right: 0.25em;color: #696969;}#sk-container-id-1 label.sk-toggleable__label-arrow:hover:before {color: black;}#sk-container-id-1 div.sk-estimator:hover label.sk-toggleable__label-arrow:before {color: black;}#sk-container-id-1 div.sk-toggleable__content {max-height: 0;max-width: 0;overflow: hidden;text-align: left;background-color: #f0f8ff;}#sk-container-id-1 div.sk-toggleable__content pre {margin: 0.2em;color: black;border-radius: 0.25em;background-color: #f0f8ff;}#sk-container-id-1 input.sk-toggleable__control:checked~div.sk-toggleable__content {max-height: 200px;max-width: 100%;overflow: auto;}#sk-container-id-1 input.sk-toggleable__control:checked~label.sk-toggleable__label-arrow:before {content: \"▾\";}#sk-container-id-1 div.sk-estimator input.sk-toggleable__control:checked~label.sk-toggleable__label {background-color: #d4ebff;}#sk-container-id-1 div.sk-label input.sk-toggleable__control:checked~label.sk-toggleable__label {background-color: #d4ebff;}#sk-container-id-1 input.sk-hidden--visually {border: 0;clip: rect(1px 1px 1px 1px);clip: rect(1px, 1px, 1px, 1px);height: 1px;margin: -1px;overflow: hidden;padding: 0;position: absolute;width: 1px;}#sk-container-id-1 div.sk-estimator {font-family: monospace;background-color: #f0f8ff;border: 1px dotted black;border-radius: 0.25em;box-sizing: border-box;margin-bottom: 0.5em;}#sk-container-id-1 div.sk-estimator:hover {background-color: #d4ebff;}#sk-container-id-1 div.sk-parallel-item::after {content: \"\";width: 100%;border-bottom: 1px solid gray;flex-grow: 1;}#sk-container-id-1 div.sk-label:hover label.sk-toggleable__label {background-color: #d4ebff;}#sk-container-id-1 div.sk-serial::before {content: \"\";position: absolute;border-left: 1px solid gray;box-sizing: border-box;top: 0;bottom: 0;left: 50%;z-index: 0;}#sk-container-id-1 div.sk-serial {display: flex;flex-direction: column;align-items: center;background-color: white;padding-right: 0.2em;padding-left: 0.2em;position: relative;}#sk-container-id-1 div.sk-item {position: relative;z-index: 1;}#sk-container-id-1 div.sk-parallel {display: flex;align-items: stretch;justify-content: center;background-color: white;position: relative;}#sk-container-id-1 div.sk-item::before, #sk-container-id-1 div.sk-parallel-item::before {content: \"\";position: absolute;border-left: 1px solid gray;box-sizing: border-box;top: 0;bottom: 0;left: 50%;z-index: -1;}#sk-container-id-1 div.sk-parallel-item {display: flex;flex-direction: column;z-index: 1;position: relative;background-color: white;}#sk-container-id-1 div.sk-parallel-item:first-child::after {align-self: flex-end;width: 50%;}#sk-container-id-1 div.sk-parallel-item:last-child::after {align-self: flex-start;width: 50%;}#sk-container-id-1 div.sk-parallel-item:only-child::after {width: 0;}#sk-container-id-1 div.sk-dashed-wrapped {border: 1px dashed gray;margin: 0 0.4em 0.5em 0.4em;box-sizing: border-box;padding-bottom: 0.4em;background-color: white;}#sk-container-id-1 div.sk-label label {font-family: monospace;font-weight: bold;display: inline-block;line-height: 1.2em;}#sk-container-id-1 div.sk-label-container {text-align: center;}#sk-container-id-1 div.sk-container {/* jupyter's `normalize.less` sets `[hidden] { display: none; }` but bootstrap.min.css set `[hidden] { display: none !important; }` so we also need the `!important` here to be able to override the default hidden behavior on the sphinx rendered scikit-learn.org. See: https://github.com/scikit-learn/scikit-learn/issues/21755 */display: inline-block !important;position: relative;}#sk-container-id-1 div.sk-text-repr-fallback {display: none;}</style><div id=\"sk-container-id-1\" class=\"sk-top-container\"><div class=\"sk-text-repr-fallback\"><pre>LinearRegression()</pre><b>In a Jupyter environment, please rerun this cell to show the HTML representation or trust the notebook. <br />On GitHub, the HTML representation is unable to render, please try loading this page with nbviewer.org.</b></div><div class=\"sk-container\" hidden><div class=\"sk-item\"><div class=\"sk-estimator sk-toggleable\"><input class=\"sk-toggleable__control sk-hidden--visually\" id=\"sk-estimator-id-1\" type=\"checkbox\" checked><label for=\"sk-estimator-id-1\" class=\"sk-toggleable__label sk-toggleable__label-arrow\">LinearRegression</label><div class=\"sk-toggleable__content\"><pre>LinearRegression()</pre></div></div></div></div></div>"
      ],
      "text/plain": [
       "LinearRegression()"
      ]
     },
     "execution_count": 19,
     "metadata": {},
     "output_type": "execute_result"
    }
   ],
   "source": [
    "from sklearn.linear_model import LinearRegression\n",
    "reg = LinearRegression()\n",
    "reg.fit(xtrain,ytrain)"
   ]
  },
  {
   "cell_type": "code",
   "execution_count": 20,
   "metadata": {},
   "outputs": [
    {
     "data": {
      "text/plain": [
       "array([ 8112.46124225, 11594.56983532, 16889.41513598, 11220.62985876,\n",
       "         589.00225607, 38707.75541092, 26017.48582029,  8079.92677232,\n",
       "        1456.18646633, 11829.61208756,  9694.08845846, 31612.15126333,\n",
       "        7814.78220115, 30955.59602385,  7752.19117194,  9521.2380109 ,\n",
       "       11555.60859326,  4754.2741024 , 11946.17658632,  8481.53878158,\n",
       "       -1133.55403656, 36555.21552034,  6701.25141114,  9055.84316534,\n",
       "        4250.27249914, 10900.35235321,  5896.54967537, 37301.52547002,\n",
       "         533.65072479,   378.32125778, 36816.47053347,  4163.49302377,\n",
       "       14652.67377116,  1578.9463929 ,  1485.15472223,  5665.89480776,\n",
       "        9461.11772042,  1653.68359054, 11856.91147348, 38585.13628086,\n",
       "        9482.89585217,  6739.12567066, 16686.19557475, 13302.79409957,\n",
       "       35121.58969773, 13545.89793178, 33819.874757  ,  4457.09154758,\n",
       "       12798.87744656,  9411.56490867, 39189.72344715,  9349.71079925,\n",
       "        6458.62973987, 37626.96158359, 11678.72193578, 34615.16828537,\n",
       "       10911.90395422,  4317.85932923, 11543.39455764, 13757.42662948,\n",
       "       13848.89197561,  7604.69734464,  3287.24685015,  1907.69838777,\n",
       "        9083.23395547, 10744.7751288 ,  6005.63812132, 13888.13553961,\n",
       "        5684.07773546, 14539.12163601, 14167.67645968,  6122.59600464,\n",
       "        3809.42809891,  9839.25921394, 12273.96923837, 25201.46844293,\n",
       "        8301.77775558,  9862.71186122, 33214.96943876,  4977.93973477,\n",
       "        4116.55347715, 27311.66253547,  1577.09093729, 13811.20174489,\n",
       "        2348.41148617,  4131.65062543, 13843.83450796,  4691.84231513,\n",
       "        3270.12995426,  3439.96478192,  4193.92962472, 11084.22157213,\n",
       "        4448.34397747, 28534.86846006, 33187.95442565, 11373.14431533,\n",
       "        8770.04160401, 10455.82884858, 24700.8293665 ,  3990.46870002,\n",
       "        6314.60390447,  1085.77406809, 36119.40758551, 13152.92242261,\n",
       "       28153.41027776,  9975.24985363, 31811.70191429, 10489.35026952,\n",
       "       11115.60318316,  8437.06161842,  7726.86625048, 10401.41125832,\n",
       "        4580.38054511,  7015.32191385,  2742.04635976,  5116.47947604,\n",
       "        7118.40031576, 11929.61203393, 16270.12808459, 33091.52076432,\n",
       "        3078.19144801,  7549.94499587,  3259.8491711 ,  -336.40995067,\n",
       "       12624.85416182, 10325.18768666,  7938.72439214, 11024.37054371,\n",
       "       10383.11826897,  5281.3069988 , 39172.20316606, 12915.55200697,\n",
       "       37178.79726077, 16133.05270672, 29461.59038485, 33670.62689745,\n",
       "       29238.98130907,  7396.30102392,  9518.50076783,  5400.90120777,\n",
       "       13346.91366665,  4518.05906096,  5244.61629506,  6230.35863193,\n",
       "        7874.19578578, 11169.85256222,  8424.30548143,  9411.33071712,\n",
       "        6824.58236811,  6703.35483615, 34109.15354042,  6526.83213608,\n",
       "        3807.46590538, 30003.41761129,  6098.56950921, 11359.06973251,\n",
       "        2961.07922085, 14925.88305253, 29782.1474361 , 14352.3327196 ,\n",
       "       11487.86512699, 11226.15137741,  8828.65296589,  9887.30680074,\n",
       "        3087.51188738,  5980.24870438,  8569.22494379,  2734.50509349,\n",
       "       30789.79126773,  2879.19873809, 34602.67700734,  2545.58741771,\n",
       "       11372.33216294,  8969.63421441, 32518.67916958,  3662.69774613,\n",
       "       34224.94811071, 10125.34294525, 29025.07523821, 12050.72258584,\n",
       "       11262.179676  , 15347.48483823,  9008.60498062,  9289.52197159,\n",
       "        6900.85019249, 36501.86735306, 35027.70150178,  9278.16027994,\n",
       "       32505.59488   ,  9169.21000623,  6411.74965719, 31173.25209607,\n",
       "        8893.783602  , 12943.45284922, 10553.03832989, 12667.12472724,\n",
       "       32326.59142205,  5971.24003399,  3032.20563926, 30959.27514676,\n",
       "       26043.4644191 , 10447.72651104, 10708.06213144, 15266.90562873,\n",
       "        8840.77535583, 26933.39279936,  9939.01475611, 13019.79030866,\n",
       "       36442.23574849, 15358.27600544, 28172.19059064, 13032.99212222,\n",
       "       11542.55757685, 38238.0682176 , 17359.64110695,  4183.68723579,\n",
       "       13069.77033304,  9739.10932683, 29998.01972013,   818.37988986,\n",
       "        1675.4522276 , 31511.28258939,  6894.41724941,  5181.29911361,\n",
       "        5202.52846707, 12283.03780766,  9739.02947913, 11094.91311331,\n",
       "        4645.6596371 , 11179.6124362 , 30315.68114278,  6199.44150687,\n",
       "       10101.08814623,  5994.58613683, 31224.08572632, 14649.13282048,\n",
       "       12322.75778664,  9021.88891571, 13336.10744872, 28155.7169365 ,\n",
       "       17114.87151648,  7201.1060108 ,  5132.47393896, 14612.80047972,\n",
       "        7935.03986516, 11174.5885542 , 26151.55953108,  7769.49336208,\n",
       "        2227.2766498 , 11762.81875243, 12987.97814277,  5492.30125094,\n",
       "        8321.67816015, 10439.40019459, 12671.6905172 , 12620.66080665,\n",
       "       15137.39280979, 10507.95913699,  3945.33881989,  9151.00225013,\n",
       "        7484.32320655, 15857.61020189, 12879.9191512 ,  4729.2826666 ,\n",
       "        4450.21249296, 11004.107705  , 15909.81990304, 29729.33343138,\n",
       "        2529.0958241 , 13503.25952816, 11092.79124287, 29972.13836456,\n",
       "        -846.78667845,  6579.26830196, 14853.52342155,  8751.46340396,\n",
       "        4871.15213801,  3393.10256771, 12660.69814861,  6178.79580872,\n",
       "       11913.15448039, 36314.31929423,  9195.33095741, 18270.24520581,\n",
       "       11976.4721678 ,  8348.74307151,  7857.91020213,  9269.36274057,\n",
       "       11866.12160973, 13098.29135651, 26218.94622821, 10792.7427969 ,\n",
       "        5305.36720237,  4160.41968929, 15390.18156638, 27682.53543802,\n",
       "        5521.77955896, 10572.15289533,  3746.9368477 , 35563.24625035,\n",
       "       37019.02108363,  8772.65259532, 25449.12196449, 14433.85849504,\n",
       "       13767.80647267,  5310.72208419, 14707.0751713 ,  7060.63766164,\n",
       "        9010.97134477, 32861.69161494, 24890.25185085,  8494.19181684,\n",
       "       28624.30020974, 13507.47489396, 31204.20144441,  5586.21967934,\n",
       "       11307.90849717,  4244.14768884, 14222.87979956, 12453.63000988,\n",
       "        5528.29194426, 14607.00460742,  6958.81581584, 26791.50053191,\n",
       "       11737.18952787, 11337.55473339, 31951.46152524,  3081.81607609,\n",
       "       25777.00219106,  4310.41271991, 14060.18825703,  -574.22291265,\n",
       "       38009.19460342,  8308.92350802, 12163.96032773,  2365.96171671,\n",
       "          95.0810015 , 11262.99723246, 13718.66166122,  9879.22976808,\n",
       "        2193.82199818,  3918.16612071, 12088.19671645,  7009.64583936,\n",
       "        9910.24413639, 30651.74865715, 11142.9657917 , 32203.20697861,\n",
       "       16157.36200058,  -285.57787629,  9873.65198673,  2228.06574167,\n",
       "       31132.5720563 ,  3956.55920908, 29767.8163681 , 15630.26408423,\n",
       "        3551.78379402,  5259.53042291,  9817.28124319, 16859.00203052,\n",
       "       37878.12474401,  8453.94482872, 16113.47760751, 33555.69072311,\n",
       "       10151.6440991 ,  -108.39681277,  1624.91297081, 28889.16451723,\n",
       "       35032.76045429, 37299.22108512,  4229.0300858 , 38269.14501957,\n",
       "       25436.82832264,  7979.34914811, 15691.04345612,  7448.72489681,\n",
       "        7266.4165371 ,  9970.67205369,  7102.72548964, 11966.6608397 ,\n",
       "       27458.5310605 ,  6091.48384916,  2378.98916663, 12361.55859231,\n",
       "       11040.71927899,  1298.98108893, 30034.04596045,  1622.45988855,\n",
       "       14048.51530235, 35609.98146536,  8949.88226572, 10040.74495622,\n",
       "       10735.77255838,  5678.78146116,  3811.99401906,  9123.50756932,\n",
       "        7910.64584401,  5919.62752452, 12025.3638178 ,  8325.74150487,\n",
       "        9224.15530508,  4325.75350548])"
      ]
     },
     "execution_count": 20,
     "metadata": {},
     "output_type": "execute_result"
    }
   ],
   "source": [
    "pred = reg.predict(xtest)\n",
    "pred"
   ]
  },
  {
   "cell_type": "code",
   "execution_count": 21,
   "metadata": {},
   "outputs": [
    {
     "data": {
      "text/plain": [
       "array([  251.39431125,  -318.92989923,   302.84862867,   405.25637414,\n",
       "       23155.11187846,  -160.54816743])"
      ]
     },
     "execution_count": 21,
     "metadata": {},
     "output_type": "execute_result"
    }
   ],
   "source": [
    "m = reg.coef_\n",
    "m"
   ]
  },
  {
   "cell_type": "code",
   "execution_count": 22,
   "metadata": {},
   "outputs": [
    {
     "data": {
      "text/plain": [
       "-10819.107038280532"
      ]
     },
     "execution_count": 22,
     "metadata": {},
     "output_type": "execute_result"
    }
   ],
   "source": [
    "c = reg.intercept_\n",
    "c"
   ]
  },
  {
   "cell_type": "code",
   "execution_count": 37,
   "metadata": {},
   "outputs": [],
   "source": [
    "acc1 = reg.score(xtest,ytest)"
   ]
  },
  {
   "cell_type": "code",
   "execution_count": 24,
   "metadata": {},
   "outputs": [
    {
     "data": {
      "text/plain": [
       "0.785429999801287"
      ]
     },
     "execution_count": 24,
     "metadata": {},
     "output_type": "execute_result"
    }
   ],
   "source": [
    "accuracy = r2_score(ytest,pred)\n",
    "accuracy"
   ]
  },
  {
   "cell_type": "code",
   "execution_count": 25,
   "metadata": {},
   "outputs": [
    {
     "data": {
      "text/plain": [
       "35195325.863506615"
      ]
     },
     "execution_count": 25,
     "metadata": {},
     "output_type": "execute_result"
    }
   ],
   "source": [
    "mse1 = mean_squared_error(ytest,pred)\n",
    "mse1"
   ]
  },
  {
   "cell_type": "code",
   "execution_count": 26,
   "metadata": {},
   "outputs": [
    {
     "data": {
      "text/plain": [
       "4052.9728730187653"
      ]
     },
     "execution_count": 26,
     "metadata": {},
     "output_type": "execute_result"
    }
   ],
   "source": [
    "mae1 = mean_absolute_error(ytest,pred)\n",
    "mae1"
   ]
  },
  {
   "attachments": {},
   "cell_type": "markdown",
   "metadata": {},
   "source": [
    "KNN Regression"
   ]
  },
  {
   "cell_type": "code",
   "execution_count": 27,
   "metadata": {},
   "outputs": [
    {
     "data": {
      "text/html": [
       "<style>#sk-container-id-2 {color: black;background-color: white;}#sk-container-id-2 pre{padding: 0;}#sk-container-id-2 div.sk-toggleable {background-color: white;}#sk-container-id-2 label.sk-toggleable__label {cursor: pointer;display: block;width: 100%;margin-bottom: 0;padding: 0.3em;box-sizing: border-box;text-align: center;}#sk-container-id-2 label.sk-toggleable__label-arrow:before {content: \"▸\";float: left;margin-right: 0.25em;color: #696969;}#sk-container-id-2 label.sk-toggleable__label-arrow:hover:before {color: black;}#sk-container-id-2 div.sk-estimator:hover label.sk-toggleable__label-arrow:before {color: black;}#sk-container-id-2 div.sk-toggleable__content {max-height: 0;max-width: 0;overflow: hidden;text-align: left;background-color: #f0f8ff;}#sk-container-id-2 div.sk-toggleable__content pre {margin: 0.2em;color: black;border-radius: 0.25em;background-color: #f0f8ff;}#sk-container-id-2 input.sk-toggleable__control:checked~div.sk-toggleable__content {max-height: 200px;max-width: 100%;overflow: auto;}#sk-container-id-2 input.sk-toggleable__control:checked~label.sk-toggleable__label-arrow:before {content: \"▾\";}#sk-container-id-2 div.sk-estimator input.sk-toggleable__control:checked~label.sk-toggleable__label {background-color: #d4ebff;}#sk-container-id-2 div.sk-label input.sk-toggleable__control:checked~label.sk-toggleable__label {background-color: #d4ebff;}#sk-container-id-2 input.sk-hidden--visually {border: 0;clip: rect(1px 1px 1px 1px);clip: rect(1px, 1px, 1px, 1px);height: 1px;margin: -1px;overflow: hidden;padding: 0;position: absolute;width: 1px;}#sk-container-id-2 div.sk-estimator {font-family: monospace;background-color: #f0f8ff;border: 1px dotted black;border-radius: 0.25em;box-sizing: border-box;margin-bottom: 0.5em;}#sk-container-id-2 div.sk-estimator:hover {background-color: #d4ebff;}#sk-container-id-2 div.sk-parallel-item::after {content: \"\";width: 100%;border-bottom: 1px solid gray;flex-grow: 1;}#sk-container-id-2 div.sk-label:hover label.sk-toggleable__label {background-color: #d4ebff;}#sk-container-id-2 div.sk-serial::before {content: \"\";position: absolute;border-left: 1px solid gray;box-sizing: border-box;top: 0;bottom: 0;left: 50%;z-index: 0;}#sk-container-id-2 div.sk-serial {display: flex;flex-direction: column;align-items: center;background-color: white;padding-right: 0.2em;padding-left: 0.2em;position: relative;}#sk-container-id-2 div.sk-item {position: relative;z-index: 1;}#sk-container-id-2 div.sk-parallel {display: flex;align-items: stretch;justify-content: center;background-color: white;position: relative;}#sk-container-id-2 div.sk-item::before, #sk-container-id-2 div.sk-parallel-item::before {content: \"\";position: absolute;border-left: 1px solid gray;box-sizing: border-box;top: 0;bottom: 0;left: 50%;z-index: -1;}#sk-container-id-2 div.sk-parallel-item {display: flex;flex-direction: column;z-index: 1;position: relative;background-color: white;}#sk-container-id-2 div.sk-parallel-item:first-child::after {align-self: flex-end;width: 50%;}#sk-container-id-2 div.sk-parallel-item:last-child::after {align-self: flex-start;width: 50%;}#sk-container-id-2 div.sk-parallel-item:only-child::after {width: 0;}#sk-container-id-2 div.sk-dashed-wrapped {border: 1px dashed gray;margin: 0 0.4em 0.5em 0.4em;box-sizing: border-box;padding-bottom: 0.4em;background-color: white;}#sk-container-id-2 div.sk-label label {font-family: monospace;font-weight: bold;display: inline-block;line-height: 1.2em;}#sk-container-id-2 div.sk-label-container {text-align: center;}#sk-container-id-2 div.sk-container {/* jupyter's `normalize.less` sets `[hidden] { display: none; }` but bootstrap.min.css set `[hidden] { display: none !important; }` so we also need the `!important` here to be able to override the default hidden behavior on the sphinx rendered scikit-learn.org. See: https://github.com/scikit-learn/scikit-learn/issues/21755 */display: inline-block !important;position: relative;}#sk-container-id-2 div.sk-text-repr-fallback {display: none;}</style><div id=\"sk-container-id-2\" class=\"sk-top-container\"><div class=\"sk-text-repr-fallback\"><pre>KNeighborsRegressor()</pre><b>In a Jupyter environment, please rerun this cell to show the HTML representation or trust the notebook. <br />On GitHub, the HTML representation is unable to render, please try loading this page with nbviewer.org.</b></div><div class=\"sk-container\" hidden><div class=\"sk-item\"><div class=\"sk-estimator sk-toggleable\"><input class=\"sk-toggleable__control sk-hidden--visually\" id=\"sk-estimator-id-2\" type=\"checkbox\" checked><label for=\"sk-estimator-id-2\" class=\"sk-toggleable__label sk-toggleable__label-arrow\">KNeighborsRegressor</label><div class=\"sk-toggleable__content\"><pre>KNeighborsRegressor()</pre></div></div></div></div></div>"
      ],
      "text/plain": [
       "KNeighborsRegressor()"
      ]
     },
     "execution_count": 27,
     "metadata": {},
     "output_type": "execute_result"
    }
   ],
   "source": [
    "from sklearn.neighbors import KNeighborsRegressor\n",
    "ne = KNeighborsRegressor()\n",
    "ne.fit(xtrain,ytrain)"
   ]
  },
  {
   "cell_type": "code",
   "execution_count": 32,
   "metadata": {},
   "outputs": [
    {
     "data": {
      "text/plain": [
       "array([ 6257.52486  , 13133.66417  , 14005.41862  ,  9934.05059  ,\n",
       "        9516.793768 , 30233.288022 , 11402.077432 , 14358.99065  ,\n",
       "        8902.97178  , 12129.7176   ,  7135.31006  , 17565.785544 ,\n",
       "        6578.67009  , 12904.67205  , 13243.757254 , 13540.78189  ,\n",
       "       12740.88034  ,  4184.16942  , 11786.3972   , 20259.825826 ,\n",
       "        1757.05526  , 27590.093404 , 10647.0615   , 15168.290036 ,\n",
       "        7255.97253  , 14260.81809  , 10281.628766 , 16695.02016  ,\n",
       "        4076.132866 ,  4097.79823  ,  7219.91503  , 10397.49634  ,\n",
       "       14279.98795  ,  7824.66501  ,  5798.46294  , 10309.09008  ,\n",
       "       15943.26531  ,  4924.55943  , 17823.599542 , 27177.16004  ,\n",
       "       13474.6456   ,  9888.13437  , 20488.8567   , 16039.63343  ,\n",
       "       11614.48282  , 20011.40722  , 13166.198422 , 13707.50381  ,\n",
       "       26060.10178  , 14523.60154  , 18739.51289  , 20289.09767  ,\n",
       "        3959.43158  , 26445.92662  , 10993.543228 , 16606.545354 ,\n",
       "       13928.015102 ,  6307.33265  ,  5295.47258  , 22017.891508 ,\n",
       "       16449.02153  ,  6638.17227  , 15310.563614 ,  8277.60464  ,\n",
       "        7573.12874  , 14002.36455  ,  7429.31678  , 16914.85542  ,\n",
       "        8058.44395  , 15261.979412 , 20112.7967   ,  4481.62219  ,\n",
       "       13911.889888 , 22359.818076 , 16328.03619  ,  7591.1266   ,\n",
       "        8529.927876 , 15107.96191  , 13446.507522 ,  4151.72813  ,\n",
       "        9062.70411  , 12381.6593   ,  7091.179608 , 19786.01666  ,\n",
       "        5238.82839  , 16135.464076 , 15062.383772 ,  9320.99683  ,\n",
       "        4835.435244 ,  8138.234102 ,  3805.47651  , 13864.7392   ,\n",
       "        6361.34544  , 22137.11265  , 15091.57832  , 11089.80432  ,\n",
       "        9347.894596 , 19208.24728  ,  7493.3266   ,  3982.339    ,\n",
       "        4295.96316  ,  2166.20936  , 11094.77946  , 12445.37887  ,\n",
       "       11454.72509  ,  8605.28825  ,  8261.037716 , 13717.323802 ,\n",
       "        9585.50855  ,  6585.58499  ,  8684.58667  ,  8779.58382  ,\n",
       "       10589.286946 , 20214.584556 , 20774.74653  , 12286.723662 ,\n",
       "        7937.57287  , 14921.663172 , 14405.28517  , 19546.695618 ,\n",
       "        4701.119512 ,  4684.69744  ,  3348.60791  ,  1796.64114  ,\n",
       "       20749.005572 ,  4852.97158  ,  6619.91292  , 15822.53623  ,\n",
       "        8424.2978   , 15069.947004 , 27315.72668  , 24369.582996 ,\n",
       "        8548.49053  , 18837.17945  ,  8134.53284  , 21783.1899   ,\n",
       "        8082.11149  ,  6399.06452  , 14248.69274  ,  4504.98845  ,\n",
       "       19166.94624  , 13398.829164 ,  7759.142976 ,  6696.125688 ,\n",
       "        9377.86872  , 14303.66584  ,  5604.97257  , 12505.73887  ,\n",
       "       11450.492058 ,  4150.74679  ,  8424.2978   ,  4483.94027  ,\n",
       "        5847.020066 , 11579.399014 ,  1943.14275  , 10362.33838  ,\n",
       "        5577.326654 , 15483.662758 , 11090.14768  , 15254.157872 ,\n",
       "       16841.374654 , 15900.91455  ,  5695.362    , 13555.886522 ,\n",
       "        4911.574224 ,  6129.837448 ,  6417.70825  ,  2144.06557  ,\n",
       "       16224.648434 ,  1966.35103  , 15360.947764 , 11496.622302 ,\n",
       "       17574.052352 , 10380.64262  ,  5674.73227  , 12385.236446 ,\n",
       "       15862.29854  , 14067.00389  , 15640.84904  , 16232.55034  ,\n",
       "       19420.291622 , 22217.996202 ,  6575.64245  , 15511.6919   ,\n",
       "        7451.090956 , 10956.69983  , 21841.67172  , 11769.57032  ,\n",
       "       19637.2264   , 13565.976658 ,  7086.06889  , 14903.190636 ,\n",
       "       22568.688648 , 14597.893872 , 10727.66301  , 16517.48634  ,\n",
       "        9338.391802 ,  4960.4306   ,  5970.26754  ,  8604.95344  ,\n",
       "       18150.04808  , 16573.80392  , 11977.512888 , 11337.8573   ,\n",
       "        5533.76307  ,  6166.13023  , 15315.02287  , 18997.00184  ,\n",
       "       21238.491974 , 24246.66535  ,  6883.57737  , 25862.450284 ,\n",
       "       22854.3358   , 25097.48793  , 27021.60072  , 10356.086016 ,\n",
       "       11609.54577  , 16179.39582  , 18371.555114 ,  5775.005086 ,\n",
       "        4753.20957  , 12564.50712  , 10393.24203  ,  4396.0247   ,\n",
       "        4302.37487  , 16506.153    , 14484.45413  ,  8508.39252  ,\n",
       "        9559.80793  , 15626.054984 ,  6107.18864  ,  1867.32999  ,\n",
       "        4852.97158  ,  7698.137344 , 14737.968928 , 15313.605612 ,\n",
       "        9643.12153  , 15397.33128  , 16039.63343  , 14269.195224 ,\n",
       "       24296.083572 ,  9693.030268 ,  8617.9715   ,  9244.31215  ,\n",
       "       13744.013664 , 12501.1847   , 14981.70502  , 11108.55096  ,\n",
       "        5468.596494 , 10687.13332  , 18444.61129  ,  7349.53115  ,\n",
       "       11949.93726  , 18501.786956 , 27187.071384 , 11958.09909  ,\n",
       "       23990.424052 , 16064.7737   , 13376.153354 , 11325.43715  ,\n",
       "       14683.647088 , 20914.83593  , 12438.2096   ,  9611.39977  ,\n",
       "       15056.485552 , 16425.18642  , 14564.07853  ,  3318.21932  ,\n",
       "        7398.866248 , 10660.26324  ,  8784.82968  , 16741.251918 ,\n",
       "        4077.59062  ,  7537.4023   , 15261.979412 ,  6893.21256  ,\n",
       "        7817.651156 ,  3348.60791  ,  8998.64028  ,  9229.1256   ,\n",
       "        8648.27564  , 19685.770672 ,  8224.663    , 14412.34838  ,\n",
       "       11447.89959  ,  6482.72293  , 11797.26374  , 12418.198682 ,\n",
       "       10016.72036  , 16461.40362  ,  5516.69417  , 19402.680922 ,\n",
       "       10192.46138  ,  8934.66434  , 10968.66333  , 13037.10093  ,\n",
       "        2657.94167  , 12900.73205  , 10631.28239  , 24966.708632 ,\n",
       "       16023.32276  , 15567.320528 ,  7124.328398 , 18885.16596  ,\n",
       "       11461.75832  ,  9332.40967  , 12661.52504  ,  6095.1057   ,\n",
       "        8454.74844  , 14631.33472  ,  8481.81622  , 20978.43921  ,\n",
       "       14519.245904 , 13230.15188  , 12964.12804  ,  6709.57386  ,\n",
       "       17150.894732 ,  5856.7929   , 13897.60959  , 22495.314336 ,\n",
       "       10494.295458 , 15552.60986  , 28709.69521  , 15060.33443  ,\n",
       "       11490.82638  ,  8730.51015  , 18212.43759  ,  3306.14043  ,\n",
       "       11293.31824  ,  6216.76112  , 13460.63154  ,  7765.278426 ,\n",
       "       27924.67054  , 20259.825826 , 22816.24498  ,  9176.8917938,\n",
       "        1756.65696  , 17097.90464  , 15428.582528 , 18734.17212  ,\n",
       "        7773.26244  ,  8556.48549  ,  8537.978904 ,  7917.92845  ,\n",
       "       15315.02287  ,  6469.85344  , 16282.716354 , 22501.576694 ,\n",
       "       20247.76656  ,  7718.101826 , 14259.73259  ,  4818.0376   ,\n",
       "       19624.137754 , 11266.600432 , 18594.298654 , 11163.60693  ,\n",
       "        5980.98443  , 12904.646112 , 15085.75445  , 27021.60072  ,\n",
       "       22923.761618 , 14642.32876  ,  8960.75451  , 17672.71288  ,\n",
       "       17164.75577  ,  6108.620936 ,  6859.515444 , 21382.73655  ,\n",
       "       15381.483234 , 13603.13017  ,  9044.40533  , 25690.448128 ,\n",
       "       14332.57379  , 10478.49927  , 27529.57228  , 22837.222208 ,\n",
       "       17426.8642   ,  5446.82865  ,  6741.257358 , 16362.73381  ,\n",
       "       11903.94868  , 16611.22796  ,  7829.08404  , 10760.96874  ,\n",
       "        6462.11167  ,  4537.45111  ,  9652.01126  ,  4826.86507  ,\n",
       "       14941.026622 , 13841.75275  , 13851.29269  , 28894.563606 ,\n",
       "        6933.90895  , 15489.23671  , 12482.619446 , 15511.6919   ,\n",
       "       16617.199078 ,  4276.1987   ,  6347.08298  ,  6695.04979  ,\n",
       "       12171.77835  , 11633.127992 ])"
      ]
     },
     "execution_count": 32,
     "metadata": {},
     "output_type": "execute_result"
    }
   ],
   "source": [
    "kntest = ne.predict(xtest)\n",
    "kntest"
   ]
  },
  {
   "cell_type": "code",
   "execution_count": 36,
   "metadata": {},
   "outputs": [],
   "source": [
    "acc2 = ne.score(xtest,ytest)"
   ]
  },
  {
   "cell_type": "code",
   "execution_count": 33,
   "metadata": {},
   "outputs": [
    {
     "data": {
      "text/plain": [
       "0.13608483026126572"
      ]
     },
     "execution_count": 33,
     "metadata": {},
     "output_type": "execute_result"
    }
   ],
   "source": [
    "accuracy1 = r2_score(ytest,kntest)\n",
    "accuracy1"
   ]
  },
  {
   "cell_type": "code",
   "execution_count": 35,
   "metadata": {},
   "outputs": [
    {
     "data": {
      "text/plain": [
       "141705624.68762004"
      ]
     },
     "execution_count": 35,
     "metadata": {},
     "output_type": "execute_result"
    }
   ],
   "source": [
    "mse2 = mean_squared_error(ytest,kntest)\n",
    "mse2"
   ]
  },
  {
   "cell_type": "code",
   "execution_count": 34,
   "metadata": {},
   "outputs": [
    {
     "data": {
      "text/plain": [
       "8241.663852552734"
      ]
     },
     "execution_count": 34,
     "metadata": {},
     "output_type": "execute_result"
    }
   ],
   "source": [
    "mae2 = mean_absolute_error(ytest,kntest)\n",
    "mae2"
   ]
  },
  {
   "cell_type": "code",
   "execution_count": 38,
   "metadata": {},
   "outputs": [
    {
     "data": {
      "text/html": [
       "<div>\n",
       "<style scoped>\n",
       "    .dataframe tbody tr th:only-of-type {\n",
       "        vertical-align: middle;\n",
       "    }\n",
       "\n",
       "    .dataframe tbody tr th {\n",
       "        vertical-align: top;\n",
       "    }\n",
       "\n",
       "    .dataframe thead th {\n",
       "        text-align: right;\n",
       "    }\n",
       "</style>\n",
       "<table border=\"1\" class=\"dataframe\">\n",
       "  <thead>\n",
       "    <tr style=\"text-align: right;\">\n",
       "      <th></th>\n",
       "      <th>Name</th>\n",
       "      <th>Accuracy</th>\n",
       "    </tr>\n",
       "  </thead>\n",
       "  <tbody>\n",
       "    <tr>\n",
       "      <th>0</th>\n",
       "      <td>KNN-R_mae</td>\n",
       "      <td>8.241664e+03</td>\n",
       "    </tr>\n",
       "    <tr>\n",
       "      <th>1</th>\n",
       "      <td>KNN-R_mse</td>\n",
       "      <td>1.417056e+08</td>\n",
       "    </tr>\n",
       "    <tr>\n",
       "      <th>2</th>\n",
       "      <td>KNN-R_accuracy</td>\n",
       "      <td>1.360848e-01</td>\n",
       "    </tr>\n",
       "    <tr>\n",
       "      <th>3</th>\n",
       "      <td>LR_mae</td>\n",
       "      <td>4.052973e+03</td>\n",
       "    </tr>\n",
       "    <tr>\n",
       "      <th>4</th>\n",
       "      <td>LR_mse</td>\n",
       "      <td>3.519533e+07</td>\n",
       "    </tr>\n",
       "    <tr>\n",
       "      <th>5</th>\n",
       "      <td>LR_accuracy</td>\n",
       "      <td>7.854300e-01</td>\n",
       "    </tr>\n",
       "  </tbody>\n",
       "</table>\n",
       "</div>"
      ],
      "text/plain": [
       "             Name      Accuracy\n",
       "0       KNN-R_mae  8.241664e+03\n",
       "1       KNN-R_mse  1.417056e+08\n",
       "2  KNN-R_accuracy  1.360848e-01\n",
       "3          LR_mae  4.052973e+03\n",
       "4          LR_mse  3.519533e+07\n",
       "5     LR_accuracy  7.854300e-01"
      ]
     },
     "execution_count": 38,
     "metadata": {},
     "output_type": "execute_result"
    }
   ],
   "source": [
    "data = {'Name':['KNN-R_mae','KNN-R_mse','KNN-R_accuracy','LR_mae','LR_mse','LR_accuracy'],\n",
    "         'Accuracy':[mae2,mse2,acc2,mae1,mse1,acc1]}\n",
    "df_for_barplot = pd.DataFrame(data=data)\n",
    "df_for_barplot.head(6)"
   ]
  },
  {
   "cell_type": "code",
   "execution_count": 39,
   "metadata": {},
   "outputs": [
    {
     "data": {
      "text/plain": [
       "<Axes: xlabel='Accuracy', ylabel='Name'>"
      ]
     },
     "execution_count": 39,
     "metadata": {},
     "output_type": "execute_result"
    },
    {
     "data": {
      "image/png": "[encoded data removed]",
      "text/plain": [
       "<Figure size 640x480 with 1 Axes>"
      ]
     },
     "metadata": {},
     "output_type": "display_data"
    }
   ],
   "source": [
    "sns.barplot(x='Accuracy',y='Name',data=df_for_barplot)"
   ]
  }
 ],
 "metadata": {
  "kernelspec": {
   "display_name": "ml",
   "language": "python",
   "name": "python3"
  },
  "language_info": {
   "codemirror_mode": {
    "name": "ipython",
    "version": 3
   },
   "file_extension": ".py",
   "mimetype": "text/x-python",
   "name": "python",
   "nbconvert_exporter": "python",
   "pygments_lexer": "ipython3",
   "version": "3.10.11"
  },
  "orig_nbformat": 4
 },
 "nbformat": 4,
 "nbformat_minor": 2
}
